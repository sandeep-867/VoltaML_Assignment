{
 "cells": [
  {
   "cell_type": "markdown",
   "metadata": {
    "id": "yUpLvVYS3UA4"
   },
   "source": [
    "# **Final Model**"
   ]
  },
  {
   "cell_type": "markdown",
   "metadata": {
    "id": "S1-0dYgM22u1"
   },
   "source": [
    "### This is the final Model, which performs the classification of the testing data, based on various stages."
   ]
  },
  {
   "cell_type": "code",
   "execution_count": 42,
   "metadata": {
    "id": "9UXRvY0riOi-"
   },
   "outputs": [],
   "source": [
    "import matplotlib.pyplot as plt\n",
    "import numpy as np\n",
    "import PIL\n",
    "import os\n",
    "import tensorflow as tf\n",
    "from tensorflow.keras import layers\n",
    "from tensorflow.keras.models import Sequential\n",
    "from tensorflow.keras.optimizers import Adam\n",
    "from keras.layers.core import Dense\n",
    "from keras.layers.core import Flatten\n",
    "from tensorflow.keras.applications.resnet50 import preprocess_input,decode_predictions\n",
    "from keras.preprocessing import image\n",
    "from matplotlib import pyplot as plt\n",
    "from PIL import Image\n",
    "import copy\n",
    "from tensorflow.keras.models import model_from_json\n",
    "from scipy import interpolate\n",
    "import pandas as pd"
   ]
  },
  {
   "cell_type": "code",
   "execution_count": 2,
   "metadata": {
    "id": "5Y8pac9miZfZ"
   },
   "outputs": [],
   "source": [
    "test_data_dir='dataset/test'"
   ]
  },
  {
   "cell_type": "code",
   "execution_count": 3,
   "metadata": {
    "id": "9aJG5S3pkEh_"
   },
   "outputs": [],
   "source": [
    "classes=[str(i) for i in range(6)]"
   ]
  },
  {
   "cell_type": "code",
   "execution_count": 15,
   "metadata": {},
   "outputs": [],
   "source": [
    "test_images_per_class=150"
   ]
  },
  {
   "cell_type": "markdown",
   "metadata": {
    "id": "tcqo19AK4kcf"
   },
   "source": [
    "### Lets define a function that Loads up a model from the drive."
   ]
  },
  {
   "cell_type": "code",
   "execution_count": 19,
   "metadata": {
    "id": "sGCH1gJbzRoy"
   },
   "outputs": [],
   "source": [
    "def load_model(model):\n",
    "  # load json and create model\n",
    "  json_file = open('Models/'+model+'.json', 'r')\n",
    "  loaded_model_json = json_file.read()\n",
    "  json_file.close()\n",
    "  loaded_model = model_from_json(loaded_model_json)\n",
    "  # load weights into new model\n",
    "  loaded_model.load_weights(\"Models/\"+model+\".h5\")\n",
    "  print(\"Loaded model from disk\")\n",
    "  \n",
    "  # evaluate loaded model on test data\n",
    "  loaded_model.compile(optimizer=Adam(lr=0.001),loss='sparse_categorical_crossentropy',metrics=['accuracy'])\n",
    "  return loaded_model"
   ]
  },
  {
   "cell_type": "code",
   "execution_count": 20,
   "metadata": {
    "colab": {
     "base_uri": "https://localhost:8080/"
    },
    "executionInfo": {
     "elapsed": 8755,
     "status": "ok",
     "timestamp": 1658140827311,
     "user": {
      "displayName": "Sandeep kumar",
      "userId": "02345463244973623341"
     },
     "user_tz": -330
    },
    "id": "WZKcV6P8m9qB",
    "outputId": "e815cc49-7aef-4785-e910-b51b9be99ca7"
   },
   "outputs": [
    {
     "name": "stdout",
     "output_type": "stream",
     "text": [
      "Loaded model from disk\n"
     ]
    },
    {
     "name": "stderr",
     "output_type": "stream",
     "text": [
      "c:\\python\\python39\\lib\\site-packages\\keras\\optimizer_v2\\adam.py:105: UserWarning: The `lr` argument is deprecated, use `learning_rate` instead.\n",
      "  super(Adam, self).__init__(name, **kwargs)\n"
     ]
    }
   ],
   "source": [
    "model_1=load_model('filter_model_1')"
   ]
  },
  {
   "cell_type": "code",
   "execution_count": 21,
   "metadata": {
    "colab": {
     "base_uri": "https://localhost:8080/"
    },
    "executionInfo": {
     "elapsed": 4686,
     "status": "ok",
     "timestamp": 1658140849452,
     "user": {
      "displayName": "Sandeep kumar",
      "userId": "02345463244973623341"
     },
     "user_tz": -330
    },
    "id": "D-S_yuW0m9H6",
    "outputId": "af527996-00d9-4600-ab27-18d7ff29a7d6"
   },
   "outputs": [
    {
     "name": "stdout",
     "output_type": "stream",
     "text": [
      "Loaded model from disk\n"
     ]
    }
   ],
   "source": [
    "model_2=load_model('filter_model_2')"
   ]
  },
  {
   "cell_type": "code",
   "execution_count": 22,
   "metadata": {
    "colab": {
     "base_uri": "https://localhost:8080/"
    },
    "executionInfo": {
     "elapsed": 4648,
     "status": "ok",
     "timestamp": 1658140861262,
     "user": {
      "displayName": "Sandeep kumar",
      "userId": "02345463244973623341"
     },
     "user_tz": -330
    },
    "id": "pNE1Nndhm8w0",
    "outputId": "77a51b71-3313-437d-ceb5-cdc30d653ac2"
   },
   "outputs": [
    {
     "name": "stdout",
     "output_type": "stream",
     "text": [
      "Loaded model from disk\n"
     ]
    }
   ],
   "source": [
    "model_3=load_model('filter_model_3')"
   ]
  },
  {
   "cell_type": "code",
   "execution_count": 23,
   "metadata": {
    "colab": {
     "base_uri": "https://localhost:8080/"
    },
    "executionInfo": {
     "elapsed": 4232,
     "status": "ok",
     "timestamp": 1658140887684,
     "user": {
      "displayName": "Sandeep kumar",
      "userId": "02345463244973623341"
     },
     "user_tz": -330
    },
    "id": "qEkWDDjP5cZX",
    "outputId": "6a504069-02b4-4040-fa5a-90f9288031ea"
   },
   "outputs": [
    {
     "name": "stdout",
     "output_type": "stream",
     "text": [
      "Loaded model from disk\n"
     ]
    }
   ],
   "source": [
    "model_4=load_model('filter_model_4')"
   ]
  },
  {
   "cell_type": "code",
   "execution_count": 24,
   "metadata": {
    "colab": {
     "base_uri": "https://localhost:8080/"
    },
    "executionInfo": {
     "elapsed": 3438,
     "status": "ok",
     "timestamp": 1658140915293,
     "user": {
      "displayName": "Sandeep kumar",
      "userId": "02345463244973623341"
     },
     "user_tz": -330
    },
    "id": "E_AoXbBk5cOM",
    "outputId": "03837002-d9b8-4a3e-db9f-45b45fd654eb"
   },
   "outputs": [
    {
     "name": "stdout",
     "output_type": "stream",
     "text": [
      "Loaded model from disk\n"
     ]
    }
   ],
   "source": [
    "model_5=load_model('filter_model_5')"
   ]
  },
  {
   "cell_type": "code",
   "execution_count": 25,
   "metadata": {
    "id": "Z-gMZ_R8OaGZ"
   },
   "outputs": [],
   "source": [
    "def gen_circle(img: np.ndarray, center: tuple, diameter: int,fill_val: int) -> np.ndarray:\n",
    "  \n",
    "    \"\"\"\n",
    "        Creates a matrix of ones filling a circle.\n",
    "    \"\"\"\n",
    "\n",
    "    # gets the radius of the image\n",
    "    radius  = diameter//2\n",
    "\n",
    "    # gets the row and column center of the image\n",
    "    row, col = center \n",
    "\n",
    "    # generates theta vector to variate the angle\n",
    "    theta = np.arange(0, 360)*(np.pi/180)\n",
    "\n",
    "    # generates the indexes of the column\n",
    "    y = (radius*np.sin(theta)).astype(\"int32\") \n",
    "\n",
    "    # generates the indexes of the rows\n",
    "    x = (radius*np.cos(theta)).astype(\"int32\") \n",
    "\n",
    "    # with:\n",
    "    # img[x, y] = 1\n",
    "    # you can draw the border of the circle \n",
    "    # instead of the inner part and the border. \n",
    "\n",
    "    # centers the circle at the input center\n",
    "    rows = x + (row)\n",
    "    cols  = y + (col)\n",
    "\n",
    "    # gets the number of rows and columns to make \n",
    "    # to cut by half the execution\n",
    "    nrows = rows.shape[0] \n",
    "    ncols = cols.shape[0]\n",
    "\n",
    "    # makes a copy of the image\n",
    "    img_copy = np.copy(img)\n",
    "\n",
    "    # We use the simetry in our favour\n",
    "    # does reflection on the horizontal axes \n",
    "    # and in the vertical axes\n",
    "\n",
    "    for row_down, row_up, col1, col2 in zip(rows[:nrows//4],\n",
    "                            np.flip(rows[nrows//4:nrows//2]),\n",
    "                            cols[:ncols//4],\n",
    "                            cols[nrows//2:3*ncols//4]):\n",
    "    \n",
    "        img_copy[row_up:row_down, col2:col1] = fill_val\n",
    "\n",
    " \n",
    "    return img_copy"
   ]
  },
  {
   "cell_type": "markdown",
   "metadata": {
    "id": "NAKepcvy9a6J"
   },
   "source": [
    "## Defining the filter functions"
   ]
  },
  {
   "cell_type": "code",
   "execution_count": 26,
   "metadata": {
    "id": "iXbDS6xGZopU"
   },
   "outputs": [],
   "source": [
    "def apply_filter_1(im):\n",
    "  center = (112,112)\n",
    "\n",
    "  #red layer filter \n",
    "  diam = 25\n",
    "  x_dis=40\n",
    "  y_dis=50\n",
    "  r_filter_dim=[(y_dis,x_dis),(224-y_dis,x_dis),(y_dis,224-x_dis),(224-y_dis,224-x_dis)]\n",
    "  fil=np.zeros((224,224),dtype=int)\n",
    "  for i in range(4):\n",
    "    fil=gen_circle(fil,r_filter_dim[i],diam,1)\n",
    "  im[:,:,0]=im[:,:,0]*fil\n",
    "\n",
    "  #green layer filter\n",
    "  g_filter_dim=[85,65]\n",
    "  fil=np.zeros((224,224),dtype=int)\n",
    "  g_filter_dim=[85,65]\n",
    "  val=[1,0]\n",
    "  fil=np.zeros((224,224),dtype=int)\n",
    "  for i in range(2):\n",
    "    fil=gen_circle(fil,center,2*g_filter_dim[i],val[i])\n",
    "  im[:,:,1]=im[:,:,1]*fil\n",
    "\n",
    "\n",
    "  #blue layer filter\n",
    "  b_filter_dim=90\n",
    "  fil=np.zeros((224,224),dtype=int)\n",
    "  fil=gen_circle(fil,center,b_filter_dim,1)\n",
    "  im[:,:,2]=im[:,:,2]*fil\n",
    "  \n",
    "  return im"
   ]
  },
  {
   "cell_type": "code",
   "execution_count": 27,
   "metadata": {
    "id": "HM1oVliKjaCs"
   },
   "outputs": [],
   "source": [
    "def apply_filter_2(im):\n",
    "  center = (112,112)\n",
    "  #red layer filter \n",
    "  r_filter_dim=(24,200)\n",
    "  rect=np.zeros((224,224))\n",
    "  for i in range(r_filter_dim[0],r_filter_dim[1]+1):\n",
    "    for j in range(r_filter_dim[0],r_filter_dim[1]+1):\n",
    "      rect[i][j]=1\n",
    "  im[:,:,0]=im[:,:,0]*rect\n",
    "\n",
    "  #green layer filter\n",
    "  dis=37\n",
    "  g_filter_dim=[(dis,112),(112,dis),(224-dis,112),(112,224-dis)]\n",
    "  circle = np.zeros((center[0]*2, center[1]*2))\n",
    "  diameter = 25\n",
    "  for i in range(4):\n",
    "    circle = gen_circle(circle,g_filter_dim[i], diameter,1)\n",
    "  im[:,:,1]=im[:,:,1]*circle\n",
    "\n",
    "\n",
    "  #blue layer filter\n",
    "  x=60\n",
    "  b_filter_dim=[(x,x),(x,224-x),(224-x,x),(224-x,224-x),(dis,112),(112,dis),(224-dis,112),(112,224-dis)]\n",
    "  circle_1 = np.zeros((center[0]*2, center[1]*2))\n",
    "  diameter = 25\n",
    "  for i in range(4):\n",
    "    circle_1 = gen_circle(circle_1,b_filter_dim[i], diameter,1)\n",
    "  im[:,:,2]=im[:,:,2]*circle_1\n",
    "  return im"
   ]
  },
  {
   "cell_type": "code",
   "execution_count": 28,
   "metadata": {
    "id": "Y6EOgz4h-aeO"
   },
   "outputs": [],
   "source": [
    "def apply_filter_4(im):\n",
    "  center = (112,112)\n",
    "\n",
    "  #red layer filter \n",
    "  r_filter_dim=(24,200)\n",
    "  fil=np.zeros((224,224),dtype=int)\n",
    "  for i in range(r_filter_dim[0],r_filter_dim[1]):\n",
    "    for j in range(r_filter_dim[0],r_filter_dim[1]):\n",
    "      fil[i][j]=1\n",
    "  im[:,:,0]=im[:,:,0]*fil\n",
    "\n",
    "\n",
    "  #green layer filter\n",
    "  g_filter_dim=[[24,55],[224-55,200],[24,200]]\n",
    "  fil=np.zeros((224,224),dtype=int)\n",
    "  #1st rectangle\n",
    "  for i in range(g_filter_dim[0][0],g_filter_dim[0][1]):\n",
    "    for j in range(g_filter_dim[2][0],g_filter_dim[2][1]):\n",
    "      fil[i][j]=1\n",
    "  #2nd rectangle \n",
    "  for i in range(g_filter_dim[1][0],g_filter_dim[1][1]):\n",
    "    for j in range(g_filter_dim[2][0],g_filter_dim[2][1]):\n",
    "      fil[i][j]=1\n",
    "  im[:,:,1]=im[:,:,1]*fil\n",
    "\n",
    "\n",
    "  #blue layer filter\n",
    "  b_filter_dim=[[70,100],[224-100,224-70],[24,200]]\n",
    "  fil=np.zeros((224,224),dtype=int)\n",
    "  #1st rectangle\n",
    "  for i in range(b_filter_dim[0][0],b_filter_dim[0][1]):\n",
    "    for j in range(b_filter_dim[2][0],b_filter_dim[2][1]):\n",
    "      fil[i][j]=1\n",
    "  #2nd rectangle \n",
    "  for i in range(b_filter_dim[1][0],b_filter_dim[1][1]):\n",
    "    for j in range(b_filter_dim[2][0],b_filter_dim[2][1]):\n",
    "      fil[i][j]=1\n",
    "  im[:,:,2]=im[:,:,2]*fil\n",
    "  \n",
    "  return im"
   ]
  },
  {
   "cell_type": "code",
   "execution_count": 29,
   "metadata": {
    "id": "jcqKxpJR-oOg"
   },
   "outputs": [],
   "source": [
    "def apply_filter_5(im):\n",
    "  center = (112,112)\n",
    "  #four corner circles\n",
    "  #red layer filter\n",
    "  diameter=20\n",
    "  r_filter_dim=[(35,35),(190,35),(35,190),(190,190)]\n",
    "  fil=np.zeros((224,224),dtype=int)\n",
    "  for i in range(4):\n",
    "      fil=gen_circle(fil,r_filter_dim[i],diameter,1); \n",
    "  \n",
    "  im[:,:,0]=im[:,:,0]*fil\n",
    "\n",
    "\n",
    "  #green layer filter\n",
    "  # G filter\n",
    "# a circle\n",
    "  diameter_g=180\n",
    "  g_filter_dim=(112,112)\n",
    "  fil=np.zeros((224,224),dtype=int)\n",
    "  fil=gen_circle(fil,g_filter_dim,diameter_g,1)\n",
    "  im[:,:,1]=im[:,:,1]*fil\n",
    "\n",
    "\n",
    "  #blue layer filter\n",
    "  b_filter_dim=[30,195]\n",
    "  fil=np.zeros((224,224),dtype=int)\n",
    "  #1st rectangle\n",
    "  for i in range(b_filter_dim[0],b_filter_dim[1]):\n",
    "    for j in range(b_filter_dim[0],b_filter_dim[1]):\n",
    "      fil[i][j]=1\n",
    "  im[:,:,2]=im[:,:,2]*fil\n",
    "  \n",
    "  return im"
   ]
  },
  {
   "cell_type": "markdown",
   "metadata": {
    "id": "VnoXUFle-xrN"
   },
   "source": [
    "### The following function takes an array as an input and predicts the class of the image array."
   ]
  },
  {
   "cell_type": "code",
   "execution_count": 30,
   "metadata": {
    "executionInfo": {
     "elapsed": 638,
     "status": "ok",
     "timestamp": 1658386493115,
     "user": {
      "displayName": "Sandeep kumar",
      "userId": "02345463244973623341"
     },
     "user_tz": -330
    },
    "id": "7spKtUn_7xyE"
   },
   "outputs": [],
   "source": [
    "def build_and_predict(arr):\n",
    "  img_arr_1=copy.deepcopy(arr)\n",
    "  img_arr_1=apply_filter_1(img_arr_1)\n",
    "  img_arr_1=img_arr_1.reshape(1,224,224,3)\n",
    "  label=np.argmax(model_1.predict(preprocess_input(copy.deepcopy(img_arr_1))))\n",
    "  if label==0:\n",
    "    img_arr_2=copy.deepcopy(arr)\n",
    "    img_arr_2=apply_filter_2(img_arr_2)\n",
    "    img_arr_2=img_arr_2.reshape(1,224,224,3)\n",
    "    label_2=np.argmax(model_2.predict(preprocess_input(copy.deepcopy(img_arr_2))))\n",
    "    return label_2\n",
    "  else:\n",
    "    img_arr_3=copy.deepcopy(arr.reshape(1,224,224,3))\n",
    "    label_3=np.argmax(model_3.predict(preprocess_input(copy.deepcopy(img_arr_3))))\n",
    "    if label_3==0:\n",
    "      img_arr_4=copy.deepcopy(arr)\n",
    "      img_arr_4=apply_filter_4(img_arr_4)\n",
    "      img_arr_4=img_arr_4.reshape(1,224,224,3)\n",
    "      label_4=np.argmax(model_4.predict(preprocess_input(copy.deepcopy(img_arr_4))))\n",
    "      return (label_4+2)\n",
    "    else:\n",
    "      img_arr_5=copy.deepcopy(arr)\n",
    "      img_arr_5=apply_filter_5(img_arr_5)\n",
    "      img_arr_5=img_arr_5.reshape(1,224,224,3)\n",
    "      label_5=np.argmax(model_5.predict(preprocess_input(copy.deepcopy(img_arr_5))))\n",
    "      return (label_5+4);"
   ]
  },
  {
   "cell_type": "code",
   "execution_count": 31,
   "metadata": {
    "colab": {
     "base_uri": "https://localhost:8080/"
    },
    "executionInfo": {
     "elapsed": 981,
     "status": "ok",
     "timestamp": 1658145866249,
     "user": {
      "displayName": "Sandeep kumar",
      "userId": "02345463244973623341"
     },
     "user_tz": -330
    },
    "id": "i6w9WC6CJJK7",
    "outputId": "dd85fc51-ec71-418b-fadf-0d3d2cc60c7c"
   },
   "outputs": [
    {
     "data": {
      "text/plain": [
       "0"
      ]
     },
     "execution_count": 31,
     "metadata": {},
     "output_type": "execute_result"
    }
   ],
   "source": [
    "img_path='dataset/test/0/120.png'\n",
    "img=image.load_img(img_path,target_size=(224,224))\n",
    "img_data=np.asarray(img)\n",
    "build_and_predict(np.array(img_data))"
   ]
  },
  {
   "cell_type": "code",
   "execution_count": 32,
   "metadata": {
    "id": "EzPZtWgrNWUL"
   },
   "outputs": [],
   "source": [
    "test_data_dir='dataset/test'"
   ]
  },
  {
   "cell_type": "code",
   "execution_count": 33,
   "metadata": {
    "colab": {
     "base_uri": "https://localhost:8080/"
    },
    "executionInfo": {
     "elapsed": 1408526,
     "status": "ok",
     "timestamp": 1658148033940,
     "user": {
      "displayName": "Sandeep kumar",
      "userId": "02345463244973623341"
     },
     "user_tz": -330
    },
    "id": "obW6P2ktjohZ",
    "outputId": "0b58e4ff-7c6e-4243-dd5d-98837f201f67"
   },
   "outputs": [],
   "source": [
    "test_data=[]\n",
    "test_label=[]\n",
    "img_height,img_width=224,224\n",
    "for cls in classes:\n",
    "    for i in range(test_images_per_class):\n",
    "        img_path=test_data_dir+'/'+cls+'/'+str(i)+'.png'\n",
    "        img=image.load_img(img_path,target_size=(img_height,img_width))\n",
    "        img_data=np.asarray(img)\n",
    "        test_data.append(img_data)\n",
    "        test_label.append(int(cls))"
   ]
  },
  {
   "cell_type": "code",
   "execution_count": 34,
   "metadata": {
    "id": "ipk04bDpWXNF"
   },
   "outputs": [],
   "source": [
    "test_data=np.asarray(test_data)\n",
    "test_label=np.asarray(test_label)"
   ]
  },
  {
   "cell_type": "code",
   "execution_count": 35,
   "metadata": {
    "id": "MWVjnLheQ7XY"
   },
   "outputs": [],
   "source": [
    "predictions=[]\n",
    "for i in range(test_data.shape[0]):\n",
    "    predictions.append(build_and_predict(test_data[i]))"
   ]
  },
  {
   "cell_type": "code",
   "execution_count": 36,
   "metadata": {
    "id": "bTMxaeEvWjRz"
   },
   "outputs": [],
   "source": [
    "predictions=np.array(predictions).reshape(6,test_images_per_class)"
   ]
  },
  {
   "cell_type": "code",
   "execution_count": 37,
   "metadata": {
    "id": "GfcNDmeVYJXw"
   },
   "outputs": [],
   "source": [
    "test_label=test_label.reshape(6,test_images_per_class)"
   ]
  },
  {
   "cell_type": "code",
   "execution_count": 38,
   "metadata": {
    "id": "XO0r9xdNuJN2"
   },
   "outputs": [],
   "source": [
    "acc_each_class=[]\n",
    "for cls in range(6):\n",
    "    cnt=0\n",
    "    for i in range(test_images_per_class):\n",
    "        if test_label[cls][i]==predictions[cls][i]:\n",
    "            cnt+=1\n",
    "    acc_each_class.append(cnt)"
   ]
  },
  {
   "cell_type": "code",
   "execution_count": 39,
   "metadata": {
    "id": "sOgHBjJebMe8"
   },
   "outputs": [],
   "source": [
    "acc_each_class=np.array(acc_each_class)"
   ]
  },
  {
   "cell_type": "code",
   "execution_count": 40,
   "metadata": {},
   "outputs": [],
   "source": [
    "acc_each_class=[i*100/150 for i in acc_each_class]"
   ]
  },
  {
   "cell_type": "code",
   "execution_count": 50,
   "metadata": {
    "scrolled": true
   },
   "outputs": [
    {
     "data": {
      "text/plain": [
       "[88.66666666666667,\n",
       " 80.66666666666667,\n",
       " 57.333333333333336,\n",
       " 69.33333333333333,\n",
       " 60.666666666666664,\n",
       " 38.0]"
      ]
     },
     "execution_count": 50,
     "metadata": {},
     "output_type": "execute_result"
    }
   ],
   "source": [
    "acc_each_class"
   ]
  },
  {
   "cell_type": "code",
   "execution_count": 49,
   "metadata": {
    "colab": {
     "base_uri": "https://localhost:8080/",
     "height": 476
    },
    "executionInfo": {
     "elapsed": 1501,
     "status": "ok",
     "timestamp": 1658149814092,
     "user": {
      "displayName": "Sandeep kumar",
      "userId": "02345463244973623341"
     },
     "user_tz": -330
    },
    "id": "yMzKbshQaVJg",
    "outputId": "b02b2d50-11b8-40af-b50d-3b6456dd1235",
    "scrolled": true
   },
   "outputs": [
    {
     "data": {
      "image/png": "[encoded data removed]",
      "text/plain": [
       "<Figure size 432x288 with 1 Axes>"
      ]
     },
     "metadata": {
      "needs_background": "light"
     },
     "output_type": "display_data"
    }
   ],
   "source": [
    "data = {\"accuracy\":acc_each_class,\n",
    "\n",
    "        \"classes\":[i for i in range(6)]\n",
    "\n",
    "        };\n",
    "\n",
    "dataFrame = pd.DataFrame(data=data);\n",
    "\n",
    "# Draw a vertical bar chart\n",
    "\n",
    "dataFrame.plot.bar(y=\"accuracy\", x=\"classes\", rot=70);\n"
   ]
  },
  {
   "cell_type": "code",
   "execution_count": null,
   "metadata": {
    "id": "_6GO9b16awoU"
   },
   "outputs": [],
   "source": []
  }
 ],
 "metadata": {
  "accelerator": "GPU",
  "colab": {
   "authorship_tag": "ABX9TyNLjM/B8T2+Ivr425TyqEq8",
   "collapsed_sections": [],
   "mount_file_id": "10ZlDkLE-6tJUh6_oh_dZ3XfYf9j9lm51",
   "name": "Testing the model.ipynb",
   "provenance": []
  },
  "gpuClass": "standard",
  "kernelspec": {
   "display_name": "Python 3 (ipykernel)",
   "language": "python",
   "name": "python3"
  },
  "language_info": {
   "codemirror_mode": {
    "name": "ipython",
    "version": 3
   },
   "file_extension": ".py",
   "mimetype": "text/x-python",
   "name": "python",
   "nbconvert_exporter": "python",
   "pygments_lexer": "ipython3",
   "version": "3.9.6"
  }
 },
 "nbformat": 4,
 "nbformat_minor": 1
}
